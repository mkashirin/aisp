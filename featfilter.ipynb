{
 "cells": [
  {
   "cell_type": "markdown",
   "id": "33b2e643-e993-4f82-b77a-8c31e140f717",
   "metadata": {},
   "source": [
    "# Обработка высококореллированных признаков\n",
    "\n",
    "В настоящей тетради мы рассмотрим методы фильтрации признаков на основе дисперсии и корелляции для улучшения качества моделей машинного обучения.\n",
    "\n",
    "***"
   ]
  },
  {
   "cell_type": "markdown",
   "id": "71a5f140-c7f2-4dcb-9414-647058805c5e",
   "metadata": {},
   "source": [
    "## Знакомство с методами\n",
    "\n",
    "В общих чертах ознакомимся с методами фильтрации признаков.\n",
    "\n",
    "### Фильтрация на основе дисперсии\n",
    "\n",
    "Фильтрация признаков на основе дисперсии включает в себя выбор признаков на основе их коэффициента дисперсии, который является мерой того, насколько разбросаны значения признака. Коэффициент дисперсии определяется как отношение среднего арифметического к среднему геометрическому для данного признака. Это соотношение колеблется от +1 до бесконечности, и более высокий коэффициент дисперсии подразумевает более релевантный признак. И наоборот, когда все выборки признаков имеют (примерно) одинаковое значение, коэффициент дисперсии близок к 1, что указывает на низкую релевантность признака.\n",
    "\n",
    "### Фильтрация на основе корреляции\n",
    "\n",
    "Фильтрация признаков на основе корреляции включает в себя выбор признаков на основе их корреляции с целевой переменной. Корреляция между признаком и целевой переменной является мерой силы и направления линейной зависимости между ними. Этот метод направлен на выявление признаков, которые имеют сильную линейную связь с целевой переменной, что делает их потенциально более релевантными для задач прогнозного моделирования.\n",
    "\n",
    "Наиболее часто используемой мерой корреляции для выбора признака является коэффициент корреляции Пирсона, который количественно определяет линейную зависимость между двумя непрерывными переменными. Коэффициент корреляции Пирсона колеблется от -1 до 1, где 1 указывает на идеальную положительную линейную зависимость, -1 указывает на идеальную отрицательную линейную зависимость, а 0 указывает на отсутствие линейной зависимости.\n",
    "\n",
    "Важно заметить, что когда зависимость между признаком и целевой переменной не является линейной, данный метод фильтрации может и вовсе не распознать эту зависисмость. Поэтому в таких случаях лучше будет воспользоваться, к примеру, взаимной информацией.\n",
    "\n",
    "***"
   ]
  },
  {
   "cell_type": "markdown",
   "id": "683d08ff-77d7-469f-aa4c-84b42b9c02e6",
   "metadata": {},
   "source": [
    "## Практические примеры\n",
    "\n",
    "Рассмотрим теперь, как на практике можно применить рассмотренные выше методы фильтрации.\n",
    "\n",
    "Но прежде как обычно выполним необходимые импорты и рутинную обработку данных."
   ]
  },
  {
   "cell_type": "code",
   "execution_count": 1,
   "id": "25291277-0de2-4ac8-8a2e-fcdeda3549f5",
   "metadata": {},
   "outputs": [],
   "source": [
    "from typing import Optional\n",
    "\n",
    "import matplotlib.pyplot as plt\n",
    "import numpy as np\n",
    "from numpy import ndarray\n",
    "from pandas import read_csv\n",
    "from sklearn.feature_selection import VarianceThreshold\n",
    "from sklearn.linear_model import LogisticRegression\n",
    "from sklearn.metrics import mean_absolute_percentage_error\n",
    "from sklearn.model_selection import train_test_split\n",
    "from sklearn.preprocessing import MinMaxScaler"
   ]
  },
  {
   "cell_type": "markdown",
   "id": "6f32d4f5-4426-49b5-8ef4-570c924db49f",
   "metadata": {},
   "source": [
    "В качестве выборки возьмём оценки качества красного вина."
   ]
  },
  {
   "cell_type": "code",
   "execution_count": 2,
   "id": "9a622e56-0289-49ee-a761-610c853563f5",
   "metadata": {},
   "outputs": [
    {
     "data": {
      "text/html": [
       "<div>\n",
       "<style scoped>\n",
       "    .dataframe tbody tr th:only-of-type {\n",
       "        vertical-align: middle;\n",
       "    }\n",
       "\n",
       "    .dataframe tbody tr th {\n",
       "        vertical-align: top;\n",
       "    }\n",
       "\n",
       "    .dataframe thead th {\n",
       "        text-align: right;\n",
       "    }\n",
       "</style>\n",
       "<table border=\"1\" class=\"dataframe\">\n",
       "  <thead>\n",
       "    <tr style=\"text-align: right;\">\n",
       "      <th></th>\n",
       "      <th>fixed acidity</th>\n",
       "      <th>volatile acidity</th>\n",
       "      <th>citric acid</th>\n",
       "      <th>residual sugar</th>\n",
       "      <th>chlorides</th>\n",
       "      <th>free sulfur dioxide</th>\n",
       "      <th>total sulfur dioxide</th>\n",
       "      <th>density</th>\n",
       "      <th>pH</th>\n",
       "      <th>sulphates</th>\n",
       "      <th>alcohol</th>\n",
       "      <th>quality</th>\n",
       "    </tr>\n",
       "  </thead>\n",
       "  <tbody>\n",
       "    <tr>\n",
       "      <th>count</th>\n",
       "      <td>1599.000000</td>\n",
       "      <td>1599.000000</td>\n",
       "      <td>1599.000000</td>\n",
       "      <td>1599.000000</td>\n",
       "      <td>1599.000000</td>\n",
       "      <td>1599.000000</td>\n",
       "      <td>1599.000000</td>\n",
       "      <td>1599.000000</td>\n",
       "      <td>1599.000000</td>\n",
       "      <td>1599.000000</td>\n",
       "      <td>1599.000000</td>\n",
       "      <td>1599.000000</td>\n",
       "    </tr>\n",
       "    <tr>\n",
       "      <th>mean</th>\n",
       "      <td>8.319637</td>\n",
       "      <td>0.527821</td>\n",
       "      <td>0.270976</td>\n",
       "      <td>2.538806</td>\n",
       "      <td>0.087467</td>\n",
       "      <td>15.874922</td>\n",
       "      <td>46.467792</td>\n",
       "      <td>0.996747</td>\n",
       "      <td>3.311113</td>\n",
       "      <td>0.658149</td>\n",
       "      <td>10.422983</td>\n",
       "      <td>5.636023</td>\n",
       "    </tr>\n",
       "    <tr>\n",
       "      <th>std</th>\n",
       "      <td>1.741096</td>\n",
       "      <td>0.179060</td>\n",
       "      <td>0.194801</td>\n",
       "      <td>1.409928</td>\n",
       "      <td>0.047065</td>\n",
       "      <td>10.460157</td>\n",
       "      <td>32.895324</td>\n",
       "      <td>0.001887</td>\n",
       "      <td>0.154386</td>\n",
       "      <td>0.169507</td>\n",
       "      <td>1.065668</td>\n",
       "      <td>0.807569</td>\n",
       "    </tr>\n",
       "    <tr>\n",
       "      <th>min</th>\n",
       "      <td>4.600000</td>\n",
       "      <td>0.120000</td>\n",
       "      <td>0.000000</td>\n",
       "      <td>0.900000</td>\n",
       "      <td>0.012000</td>\n",
       "      <td>1.000000</td>\n",
       "      <td>6.000000</td>\n",
       "      <td>0.990070</td>\n",
       "      <td>2.740000</td>\n",
       "      <td>0.330000</td>\n",
       "      <td>8.400000</td>\n",
       "      <td>3.000000</td>\n",
       "    </tr>\n",
       "    <tr>\n",
       "      <th>25%</th>\n",
       "      <td>7.100000</td>\n",
       "      <td>0.390000</td>\n",
       "      <td>0.090000</td>\n",
       "      <td>1.900000</td>\n",
       "      <td>0.070000</td>\n",
       "      <td>7.000000</td>\n",
       "      <td>22.000000</td>\n",
       "      <td>0.995600</td>\n",
       "      <td>3.210000</td>\n",
       "      <td>0.550000</td>\n",
       "      <td>9.500000</td>\n",
       "      <td>5.000000</td>\n",
       "    </tr>\n",
       "    <tr>\n",
       "      <th>50%</th>\n",
       "      <td>7.900000</td>\n",
       "      <td>0.520000</td>\n",
       "      <td>0.260000</td>\n",
       "      <td>2.200000</td>\n",
       "      <td>0.079000</td>\n",
       "      <td>14.000000</td>\n",
       "      <td>38.000000</td>\n",
       "      <td>0.996750</td>\n",
       "      <td>3.310000</td>\n",
       "      <td>0.620000</td>\n",
       "      <td>10.200000</td>\n",
       "      <td>6.000000</td>\n",
       "    </tr>\n",
       "    <tr>\n",
       "      <th>75%</th>\n",
       "      <td>9.200000</td>\n",
       "      <td>0.640000</td>\n",
       "      <td>0.420000</td>\n",
       "      <td>2.600000</td>\n",
       "      <td>0.090000</td>\n",
       "      <td>21.000000</td>\n",
       "      <td>62.000000</td>\n",
       "      <td>0.997835</td>\n",
       "      <td>3.400000</td>\n",
       "      <td>0.730000</td>\n",
       "      <td>11.100000</td>\n",
       "      <td>6.000000</td>\n",
       "    </tr>\n",
       "    <tr>\n",
       "      <th>max</th>\n",
       "      <td>15.900000</td>\n",
       "      <td>1.580000</td>\n",
       "      <td>1.000000</td>\n",
       "      <td>15.500000</td>\n",
       "      <td>0.611000</td>\n",
       "      <td>72.000000</td>\n",
       "      <td>289.000000</td>\n",
       "      <td>1.003690</td>\n",
       "      <td>4.010000</td>\n",
       "      <td>2.000000</td>\n",
       "      <td>14.900000</td>\n",
       "      <td>8.000000</td>\n",
       "    </tr>\n",
       "  </tbody>\n",
       "</table>\n",
       "</div>"
      ],
      "text/plain": [
       "       fixed acidity  volatile acidity  citric acid  residual sugar  \\\n",
       "count    1599.000000       1599.000000  1599.000000     1599.000000   \n",
       "mean        8.319637          0.527821     0.270976        2.538806   \n",
       "std         1.741096          0.179060     0.194801        1.409928   \n",
       "min         4.600000          0.120000     0.000000        0.900000   \n",
       "25%         7.100000          0.390000     0.090000        1.900000   \n",
       "50%         7.900000          0.520000     0.260000        2.200000   \n",
       "75%         9.200000          0.640000     0.420000        2.600000   \n",
       "max        15.900000          1.580000     1.000000       15.500000   \n",
       "\n",
       "         chlorides  free sulfur dioxide  total sulfur dioxide      density  \\\n",
       "count  1599.000000          1599.000000           1599.000000  1599.000000   \n",
       "mean      0.087467            15.874922             46.467792     0.996747   \n",
       "std       0.047065            10.460157             32.895324     0.001887   \n",
       "min       0.012000             1.000000              6.000000     0.990070   \n",
       "25%       0.070000             7.000000             22.000000     0.995600   \n",
       "50%       0.079000            14.000000             38.000000     0.996750   \n",
       "75%       0.090000            21.000000             62.000000     0.997835   \n",
       "max       0.611000            72.000000            289.000000     1.003690   \n",
       "\n",
       "                pH    sulphates      alcohol      quality  \n",
       "count  1599.000000  1599.000000  1599.000000  1599.000000  \n",
       "mean      3.311113     0.658149    10.422983     5.636023  \n",
       "std       0.154386     0.169507     1.065668     0.807569  \n",
       "min       2.740000     0.330000     8.400000     3.000000  \n",
       "25%       3.210000     0.550000     9.500000     5.000000  \n",
       "50%       3.310000     0.620000    10.200000     6.000000  \n",
       "75%       3.400000     0.730000    11.100000     6.000000  \n",
       "max       4.010000     2.000000    14.900000     8.000000  "
      ]
     },
     "execution_count": 2,
     "metadata": {},
     "output_type": "execute_result"
    }
   ],
   "source": [
    "wine = read_csv(\"datasets/winequality_red.csv\")\n",
    "\n",
    "wine.describe()"
   ]
  },
  {
   "cell_type": "markdown",
   "id": "86834229-a7ad-434f-a422-1ab838ba17a3",
   "metadata": {},
   "source": [
    "Разделим набор данных на тренировочные и тестовые выборки."
   ]
  },
  {
   "cell_type": "code",
   "execution_count": 3,
   "id": "5c3824cf-02ec-4a46-9259-ad3de81ab280",
   "metadata": {},
   "outputs": [],
   "source": [
    "x_train_wine, x_test_wine, y_train_wine, y_test_wine = train_test_split(\n",
    "    wine.iloc[:, :-1],\n",
    "    wine.iloc[:, -1],\n",
    "    test_size=0.35,\n",
    "    random_state=52,\n",
    ")"
   ]
  },
  {
   "cell_type": "markdown",
   "id": "34059c4c-dca3-4f08-a538-37b639cf3072",
   "metadata": {},
   "source": [
    "### Порог коэффициента дисперсии\n",
    "\n",
    "Инициализируем экземпляр класса-фильтра `VarianceThreshold` и применим его. Признаки имеющие коэффициент дисперсии меншьший, чем пороговое значение, будут исключены. Масштабируем данные и обучим модель логистической регрессии. Код для всего процесса обернём в функцию."
   ]
  },
  {
   "cell_type": "code",
   "execution_count": 4,
   "id": "5fbe8b89-4e63-47b3-b8ad-3d542922e3f5",
   "metadata": {},
   "outputs": [],
   "source": [
    "def fit_predict_evaluate_variance_model(\n",
    "    x_train: ndarray,\n",
    "    x_test: ndarray,\n",
    "    y_train: ndarray,\n",
    "    y_test: ndarray,\n",
    "    *,\n",
    "    variance_threshold: float,\n",
    ") -> float:\n",
    "    selector = VarianceThreshold(threshold=variance_threshold)\n",
    "    selector.fit(x_train_wine)\n",
    "    x_train_selected = selector.transform(x_train_wine)\n",
    "    x_test_selected = selector.transform(x_test_wine)\n",
    "    \n",
    "    scaler = MinMaxScaler()\n",
    "    scaler.fit(x_train_selected)\n",
    "    x_train_scaled = scaler.transform(x_train_selected)\n",
    "    x_test_scaled = scaler.transform(x_test_selected)\n",
    "    \n",
    "    regressor = LogisticRegression()\n",
    "    regressor.fit(x_train_scaled, y_train)\n",
    "    y_predicted = regressor.predict(x_test_scaled)\n",
    "    error = float(mean_absolute_percentage_error(y_predicted, y_test))\n",
    "    \n",
    "    return error"
   ]
  },
  {
   "cell_type": "markdown",
   "id": "e19b2159-1226-4f61-aea4-057006469b17",
   "metadata": {},
   "source": [
    "Установим пороговое значение коэффициента дисперсии равным 0,5."
   ]
  },
  {
   "cell_type": "code",
   "execution_count": 5,
   "id": "c6870f13-aad0-4ca6-9eb3-27b498854808",
   "metadata": {},
   "outputs": [
    {
     "data": {
      "text/plain": [
       "0.09218537414965987"
      ]
     },
     "execution_count": 5,
     "metadata": {},
     "output_type": "execute_result"
    }
   ],
   "source": [
    "fit_predict_evaluate_variance_model(\n",
    "    x_train_wine, \n",
    "    x_test_wine,\n",
    "    y_train_wine,\n",
    "    y_test_wine,\n",
    "    variance_threshold=0.5,\n",
    ")"
   ]
  },
  {
   "cell_type": "markdown",
   "id": "2b14e329-907a-49e2-ad1a-cb0744d4a472",
   "metadata": {},
   "source": [
    "Увеличим пороговое значение дисперсии до 0,7."
   ]
  },
  {
   "cell_type": "code",
   "execution_count": 6,
   "id": "4731ed58-7dfb-4fff-a0ea-3ca164387ac6",
   "metadata": {},
   "outputs": [
    {
     "data": {
      "text/plain": [
       "0.09218537414965987"
      ]
     },
     "execution_count": 6,
     "metadata": {},
     "output_type": "execute_result"
    }
   ],
   "source": [
    "fit_predict_evaluate_variance_model(\n",
    "    x_train_wine, \n",
    "    x_test_wine,\n",
    "    y_train_wine,\n",
    "    y_test_wine,\n",
    "    variance_threshold=0.7,\n",
    ")"
   ]
  },
  {
   "cell_type": "markdown",
   "id": "49bd660a-c07d-4c21-803e-133cced80df0",
   "metadata": {},
   "source": [
    "И понизим до 0,2."
   ]
  },
  {
   "cell_type": "code",
   "execution_count": 7,
   "id": "6a6f2109-00b7-427e-9bb6-5005c02cc7d2",
   "metadata": {},
   "outputs": [
    {
     "data": {
      "text/plain": [
       "0.09218537414965987"
      ]
     },
     "execution_count": 7,
     "metadata": {},
     "output_type": "execute_result"
    }
   ],
   "source": [
    "fit_predict_evaluate_variance_model(\n",
    "    x_train_wine, \n",
    "    x_test_wine,\n",
    "    y_train_wine,\n",
    "    y_test_wine,\n",
    "    variance_threshold=0.2,\n",
    ")"
   ]
  },
  {
   "cell_type": "markdown",
   "id": "bc73eaea-48f3-4c41-844d-d2deee59720b",
   "metadata": {},
   "source": [
    "Как это ни странно, результат никак не меняется, и не важно, каково пороговое значение дисперсии..."
   ]
  },
  {
   "cell_type": "markdown",
   "id": "bcf59471-0107-4737-81d6-af047f2669e1",
   "metadata": {},
   "source": [
    "### Порог коэффициента корреляции\n",
    "\n",
    "Сейчас мы опишем небольшой класс подобно тем, что мы можем видеть в Scikit-Learn, для вычисления корреляции признаков и их исключения на основе порогового значения."
   ]
  },
  {
   "cell_type": "code",
   "execution_count": 8,
   "id": "a32dd456-696c-47e0-b797-bf19304a3e1a",
   "metadata": {},
   "outputs": [],
   "source": [
    "class CorrelationFilter:\n",
    "    def __init__(self, threshold=0.95):\n",
    "        self.threshold = threshold\n",
    "        self.highly_correlated_indices = []\n",
    "\n",
    "    def fit(self, x) -> None:\n",
    "        correlation_matrix = np.corrcoef(x, rowvar=False)\n",
    "        num_features = correlation_matrix.shape[0]\n",
    "\n",
    "        # Create a mask to identify highly correlated features\n",
    "        high_correlation_mask = np.abs(correlation_matrix) > self.threshold\n",
    "        np.fill_diagonal(high_correlation_mask, False)  # Exclude self-correlation\n",
    "\n",
    "        # Identify indices of highly correlated features\n",
    "        self.highly_correlated_indices = [\n",
    "            i for i in range(num_features) if np.any(high_correlation_mask[i])\n",
    "        ]\n",
    "\n",
    "    def transform(self, x) -> ndarray:\n",
    "        # Drop highly correlated features\n",
    "        filtered_features = np.delete(x, self.highly_correlated_indices, axis=1)\n",
    "        return filtered_features\n",
    "\n",
    "    def fit_transform(self, x) -> ndarray:\n",
    "        self.fit(x)\n",
    "        filtered_features = self.transform(x)\n",
    "        return filtered_features"
   ]
  },
  {
   "cell_type": "markdown",
   "id": "823465eb-3989-4fea-a43c-3c331b0ba1a1",
   "metadata": {},
   "source": [
    "Так как метод включает в себя вычисление матрицы корреляции, полезно будет взглянуть на неё. Код для визуализации заворачиваем в функцию."
   ]
  },
  {
   "cell_type": "code",
   "execution_count": 9,
   "id": "b09bebed-2a4c-4251-9fa5-d5f907e7a07a",
   "metadata": {},
   "outputs": [
    {
     "data": {
      "image/png": "[encoded data removed]",
      "text/plain": [
       "<Figure size 640x480 with 2 Axes>"
      ]
     },
     "metadata": {},
     "output_type": "display_data"
    }
   ],
   "source": [
    "def draw_correlation_matrix(data: ndarray, threshold: Optional[float] = None) -> None:\n",
    "    correlation_matrix = np.corrcoef(data, rowvar=False)\n",
    "    \n",
    "    fig = plt.figure()\n",
    "    axis = fig.add_subplot()\n",
    "    matrix = plt.imshow(correlation_matrix)\n",
    "    colorbar = fig.colorbar(matrix)\n",
    "    \n",
    "    ticks = tuple(range(correlation_matrix.shape[0]))\n",
    "    axis.set_xticks(ticks)\n",
    "    axis.set_yticks(ticks)\n",
    "\n",
    "    title = \"Correlation matrix\"\n",
    "    if threshold:\n",
    "        title += f\" (threshold = {threshold})\"\n",
    "    axis.set_title(title, fontsize=14)\n",
    "    colorbar.set_label(\"Correlation coefficient\")\n",
    "    plt.tight_layout()\n",
    "    plt.show()\n",
    "\n",
    "\n",
    "wine_numpy = wine.to_numpy()\n",
    "draw_correlation_matrix(wine_numpy)"
   ]
  },
  {
   "cell_type": "markdown",
   "id": "371b07a0-062f-4852-b590-5d2d9ff47b44",
   "metadata": {},
   "source": [
    "Так же, как и пороговым значением дисперсии, определим функцию, которая выполнит фильтрацию признаков, масштабирует данные и обучит модель."
   ]
  },
  {
   "cell_type": "code",
   "execution_count": 10,
   "id": "5d637eb5-5479-4951-9cb3-34f5f2f9e4a9",
   "metadata": {},
   "outputs": [],
   "source": [
    "def fit_predict_evaluate_correlation_model(\n",
    "    x_train: ndarray,\n",
    "    x_test: ndarray,\n",
    "    y_train: ndarray,\n",
    "    y_test: ndarray,\n",
    "    *,\n",
    "    correlation_threshold: float,\n",
    ") -> float:\n",
    "    selector = CorrelationFilter(threshold=correlation_threshold)\n",
    "    selector.fit(x_train_wine)\n",
    "    x_train_selected = selector.transform(x_train_wine)\n",
    "    x_test_selected = selector.transform(x_test_wine)\n",
    "    \n",
    "    scaler = MinMaxScaler()\n",
    "    scaler.fit(x_train_selected)\n",
    "    x_train_scaled = scaler.transform(x_train_selected)\n",
    "    x_test_scaled = scaler.transform(x_test_selected)\n",
    "    \n",
    "    regressor = LogisticRegression()\n",
    "    regressor.fit(x_train_scaled, y_train)\n",
    "    y_predicted = regressor.predict(x_test_scaled)\n",
    "    error = float(mean_absolute_percentage_error(y_predicted, y_test))\n",
    "    \n",
    "    return error"
   ]
  },
  {
   "cell_type": "markdown",
   "id": "34183ff9-0dde-4616-ba6f-e5c23cee88fa",
   "metadata": {},
   "source": [
    "Оставим для начала пороговое значение по умолчанию."
   ]
  },
  {
   "cell_type": "code",
   "execution_count": 11,
   "id": "1a3931c5-76fd-4fc4-8aba-7d2faef8f2cc",
   "metadata": {},
   "outputs": [
    {
     "data": {
      "text/plain": [
       "0.08500850340136054"
      ]
     },
     "execution_count": 11,
     "metadata": {},
     "output_type": "execute_result"
    }
   ],
   "source": [
    "fit_predict_evaluate_correlation_model(\n",
    "    x_train_wine,\n",
    "    x_test_wine,\n",
    "    y_train_wine,\n",
    "    y_test_wine,\n",
    "    correlation_threshold=0.95,\n",
    ")"
   ]
  },
  {
   "cell_type": "markdown",
   "id": "1c6d5016-a649-4258-a32f-2120839ed74d",
   "metadata": {},
   "source": [
    "Понизим значение до 0,65."
   ]
  },
  {
   "cell_type": "code",
   "execution_count": 12,
   "id": "55c5b304-7b7b-4770-a073-af8c580af005",
   "metadata": {},
   "outputs": [
    {
     "data": {
      "text/plain": [
       "0.08796768707482992"
      ]
     },
     "execution_count": 12,
     "metadata": {},
     "output_type": "execute_result"
    }
   ],
   "source": [
    "fit_predict_evaluate_correlation_model(\n",
    "    x_train_wine,\n",
    "    x_test_wine,\n",
    "    y_train_wine,\n",
    "    y_test_wine,\n",
    "    correlation_threshold=0.65,\n",
    ")"
   ]
  },
  {
   "cell_type": "markdown",
   "id": "52185092-bc1c-4b04-bc8d-f66ddc157911",
   "metadata": {},
   "source": [
    "А теперь и вовсе до 0,5!"
   ]
  },
  {
   "cell_type": "code",
   "execution_count": 13,
   "id": "702ef237-5bb6-4b0c-afd5-68b86b79d835",
   "metadata": {},
   "outputs": [
    {
     "data": {
      "text/plain": [
       "0.10579931972789115"
      ]
     },
     "execution_count": 13,
     "metadata": {},
     "output_type": "execute_result"
    }
   ],
   "source": [
    "fit_predict_evaluate_correlation_model(\n",
    "    x_train_wine,\n",
    "    x_test_wine,\n",
    "    y_train_wine,\n",
    "    y_test_wine,\n",
    "    correlation_threshold=0.5,\n",
    ")"
   ]
  },
  {
   "cell_type": "markdown",
   "id": "3dc67f56-3bc5-4af6-8542-0eb0af3c9478",
   "metadata": {},
   "source": [
    "Как видим, на этот раз изменение порогового значения коэффициента всё-же повлияло на точность модели. Рассмотрим теперь соответствующие матрицы корреляции.\n",
    "\n",
    "Вот матрица для порогового значения коэффициента корреляции равного 0,95."
   ]
  },
  {
   "cell_type": "code",
   "execution_count": 14,
   "id": "27b2a5ae-e2be-45fb-9d38-9131f556c9bb",
   "metadata": {},
   "outputs": [
    {
     "data": {
      "image/png": "[encoded data removed]",
      "text/plain": [
       "<Figure size 640x480 with 2 Axes>"
      ]
     },
     "metadata": {},
     "output_type": "display_data"
    }
   ],
   "source": [
    "correlation_filter = CorrelationFilter()\n",
    "\n",
    "wine_selected = correlation_filter.fit_transform(wine_numpy)\n",
    "draw_correlation_matrix(wine_selected, 0.95)"
   ]
  },
  {
   "cell_type": "markdown",
   "id": "53c3584c-927d-4fb0-a15f-441ab36d731a",
   "metadata": {},
   "source": [
    "Матрица для порога в 0,65:"
   ]
  },
  {
   "cell_type": "code",
   "execution_count": 15,
   "id": "bc95fca0-1e08-45b1-ae23-1dfbc1268a46",
   "metadata": {},
   "outputs": [
    {
     "data": {
      "image/png": "[encoded data removed]",
      "text/plain": [
       "<Figure size 640x480 with 2 Axes>"
      ]
     },
     "metadata": {},
     "output_type": "display_data"
    }
   ],
   "source": [
    "correlation_filter = CorrelationFilter(threshold=0.65)\n",
    "\n",
    "wine_selected = correlation_filter.fit_transform(wine_numpy)\n",
    "draw_correlation_matrix(wine_selected, 0.65)"
   ]
  },
  {
   "cell_type": "markdown",
   "id": "8c0239a9-c588-4e19-bd2d-b2c45a3636d1",
   "metadata": {},
   "source": [
    "И, наконец, для 0,5 имеем:"
   ]
  },
  {
   "cell_type": "code",
   "execution_count": 16,
   "id": "2036e5e4-b9d4-486c-bd9e-4eec5866398a",
   "metadata": {},
   "outputs": [
    {
     "data": {
      "image/png": "[encoded data removed]",
      "text/plain": [
       "<Figure size 640x480 with 2 Axes>"
      ]
     },
     "metadata": {},
     "output_type": "display_data"
    }
   ],
   "source": [
    "correlation_filter = CorrelationFilter(threshold=0.5)\n",
    "\n",
    "wine_selected = correlation_filter.fit_transform(wine_numpy)\n",
    "draw_correlation_matrix(wine_selected, 0.5)"
   ]
  },
  {
   "cell_type": "markdown",
   "id": "5b774b63-dc60-4e35-b2df-cd44740db705",
   "metadata": {},
   "source": [
    "Нетрудно видеть, что пороговое значение коэффициента корреляции равное 0,95 не оказывает никакого влияния на матрицу корреляции. Однако чем более радикально низкие значения для самого порога мы берём, тем (что не удивительно) фильтр больше исключает признаков.\n",
    "\n",
    "***"
   ]
  },
  {
   "cell_type": "markdown",
   "id": "b76fc8d9-7c36-45d2-8cf5-ae6d7df98b0e",
   "metadata": {},
   "source": [
    "## Заключение\n",
    "\n",
    "В настоящей тетради мы познакомились с двумя новыми методами фильтрации признаков, а именно: фильтрации по пороговому значению дисперсии и корреляции. Эти методы являются довольно полезными при работе с данными, в которых довольно много высококоррелированных признаков. И теперь мы знаем, как можно ими пользоваться для повышения уровня качества моделей машинного обучения. (Пускай, здесь мы наблюдали только упадки качества в показательных целях.)"
   ]
  }
 ],
 "metadata": {
  "kernelspec": {
   "display_name": "Python 3 (ipykernel)",
   "language": "python",
   "name": "python3"
  },
  "language_info": {
   "codemirror_mode": {
    "name": "ipython",
    "version": 3
   },
   "file_extension": ".py",
   "mimetype": "text/x-python",
   "name": "python",
   "nbconvert_exporter": "python",
   "pygments_lexer": "ipython3",
   "version": "3.12.1"
  }
 },
 "nbformat": 4,
 "nbformat_minor": 5
}
