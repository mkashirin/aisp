{
 "cells": [
  {
   "cell_type": "markdown",
   "id": "94434f45-ec2b-4d2a-a9f7-acebce39e469",
   "metadata": {},
   "source": [
    "# Алгоритмы отбора моделей\n",
    "\n",
    "В этой тетради мы изучим различные методы отбора наилучших моделей машинного обучения и их применение для улучшения производительности интерпретируемости моделей.\n",
    "\n",
    "***"
   ]
  },
  {
   "cell_type": "markdown",
   "id": "54045592-867a-4d07-9ec7-2fac99140894",
   "metadata": {},
   "source": [
    "## Знакомство с методами\n",
    "\n",
    "Ознакомимся с различными методами отбора признаков, такими как отбор признаков на основе важности, рекурсивное исключение признаков (Recursive Feature Elimination, RFE) и методы отбора признаков на основе моделей.\n",
    "\n",
    "### Методы фильтрации\n",
    "\n",
    "Методы фильтрации выбирают признаки на основе статистических показателей, таких как корреляция или критерий хи-квадрат. Эти методы включают:\n",
    "\n",
    "* Выбор объектов на основе корреляции: Выбирает объекты на основе их корреляции с целевой переменной.\n",
    "* Тест Chi2: Использует критерий хи-квадрат для выбора объектов на основе их взаимосвязи с целевой переменной.\n",
    "* SelectKBest: Выбирает лучшие k объектов на основе статистических тестов.\n",
    "* F-значение ANOVA: Выбирает объекты на основе их дисперсии и целевой переменной.\n",
    "\n",
    "### Методы-оболочки\n",
    "\n",
    "Методы-оболочки выбирают объекты путем оценки их комбинаций с использованием прогнозирующей модели. Распространенные примеры включают:\n",
    "\n",
    "* Рекурсивное устранение признаков (RFE): Этот метод работает путем рекурсивного удаления наименее важных признаков на основе оценки важности модели. Он начинается со всего набора предикторов, вычисляет оценку важности для каждого предиктора, а затем удаляет наименее важные из них до тех пор, пока не будет найдено оптимальное подмножество.\n",
    "* Обратное устранение признаков: Аналогично RFE, этот метод начинается со всех признаков и удаляет наименее значимый признак на каждой итерации, улучшая производительность модели до тех пор, пока не будет замечено никаких дальнейших улучшений.\n",
    "* Прямой выбор функции: Итеративное добавление функции, которая наилучшим образом улучшает модель, до тех пор, пока не будет замечено никаких дальнейших улучшений.\n",
    "\n",
    "### Встроенные методы\n",
    "\n",
    "Встроенные методы выбирают функции, изучая их важность во время обучения модели. Примеры встроенных методов включают:\n",
    "\n",
    "* Регрессия Лассо: Использует регуляризацию L1 для ограничения абсолютного размера коэффициентов, эффективно выполняя отбор признаков.\n",
    "* Регрессия гребня: Использует регуляризацию L2 для уменьшения коэффициентов менее важных признаков.\n",
    "* Важность объектов случайного леса: Древовидные методы, такие как Random Forest, предоставляют оценки важности объектов, которые можно использовать для выбора объектов.\n",
    "\n",
    "C этой небольой теоритической основой можно приступать к практическим примерам.\n",
    "\n",
    "***"
   ]
  },
  {
   "cell_type": "markdown",
   "id": "a02db9a8-00bb-4baf-96ce-431945fd0209",
   "metadata": {},
   "source": [
    "## Практические примеры\n",
    "\n",
    "Приступим теперь к практическим примерам применения некоторых методов отбора признаков в гипотетических задачах машинного обучения.\n",
    "\n",
    "Cначала выполним все нужные импорты. Установим также случайный seed, введём тип, который очень быстро пригодится для сокращённых аннотаций типов."
   ]
  },
  {
   "cell_type": "code",
   "execution_count": 1,
   "id": "04d55937-98bf-429b-840b-48064df9b4f8",
   "metadata": {},
   "outputs": [],
   "source": [
    "from random import seed\n",
    "from typing import Optional, Tuple\n",
    "\n",
    "import matplotlib.pyplot as plt\n",
    "from numpy import ndarray\n",
    "from pandas import read_csv\n",
    "from sklearn.feature_selection import SelectFromModel, RFE\n",
    "from sklearn.linear_model import LogisticRegression, Lasso, Ridge\n",
    "from sklearn.model_selection import train_test_split\n",
    "from sklearn.preprocessing import MinMaxScaler\n",
    "\n",
    "seed(52)\n",
    "TrainTestSplitTuple = Tuple[ndarray, ndarray, ndarray, ndarray]"
   ]
  },
  {
   "cell_type": "markdown",
   "id": "cb2b1b65-d2b8-4efa-839b-37f04bebae24",
   "metadata": {},
   "source": [
    "Не помешает и функция для визуализации полученных результатов."
   ]
  },
  {
   "cell_type": "code",
   "execution_count": 2,
   "id": "46e0f99f-998f-4cac-b218-eca9d109eed2",
   "metadata": {},
   "outputs": [],
   "source": [
    "ThreeFloats = Tuple[float, float, float]\n",
    "\n",
    "\n",
    "def visualize_results(\n",
    "    figure_name: str,\n",
    "    axes_names: Tuple[str, str],\n",
    "    first_res: ThreeFloats,\n",
    "    second_res: ThreeFloats,\n",
    "    default_res: Optional[float],\n",
    "    min_max: Tuple[float, float],\n",
    ") -> None:\n",
    "    figure, (axis_one, axis_two) = plt.subplots(1, 2)\n",
    "    y_min, y_max = min_max\n",
    "    axes_names = iter(axes_names)\n",
    "    bar_names = tuple((f\"score {n}\" for n, _ in enumerate(first_res)))\n",
    "\n",
    "    axis_one.bar(bar_names, first_res, color=\"tab:red\", edgecolor=\"black\")\n",
    "    axis_two.bar(bar_names, second_res, color=\"tab:blue\", edgecolor=\"black\")\n",
    "    for axis in (axis_one, axis_two):\n",
    "        axis.set_title(next(axes_names))\n",
    "        axis.set_ylim(y_min, y_max)\n",
    "        if default_res is not None:\n",
    "            axis.bar(\"default\", default_res, color=\"tab:green\", edgecolor=\"black\")\n",
    "        axis.grid(True)\n",
    "\n",
    "    figure.suptitle(figure_name, fontsize=14)\n",
    "    plt.tight_layout()\n",
    "    plt.show()"
   ]
  },
  {
   "cell_type": "markdown",
   "id": "09f4a1fa-5cb4-4e59-88e4-91fd5244f23d",
   "metadata": {},
   "source": [
    "Загрузим наши данные."
   ]
  },
  {
   "cell_type": "code",
   "execution_count": 3,
   "id": "2d81c672-7747-4d44-aa6b-febc1f8fff3e",
   "metadata": {},
   "outputs": [
    {
     "data": {
      "text/html": [
       "<div>\n",
       "<style scoped>\n",
       "    .dataframe tbody tr th:only-of-type {\n",
       "        vertical-align: middle;\n",
       "    }\n",
       "\n",
       "    .dataframe tbody tr th {\n",
       "        vertical-align: top;\n",
       "    }\n",
       "\n",
       "    .dataframe thead th {\n",
       "        text-align: right;\n",
       "    }\n",
       "</style>\n",
       "<table border=\"1\" class=\"dataframe\">\n",
       "  <thead>\n",
       "    <tr style=\"text-align: right;\">\n",
       "      <th></th>\n",
       "      <th>fixed acidity</th>\n",
       "      <th>volatile acidity</th>\n",
       "      <th>citric acid</th>\n",
       "      <th>residual sugar</th>\n",
       "      <th>chlorides</th>\n",
       "      <th>free sulfur dioxide</th>\n",
       "      <th>total sulfur dioxide</th>\n",
       "      <th>density</th>\n",
       "      <th>pH</th>\n",
       "      <th>sulphates</th>\n",
       "      <th>alcohol</th>\n",
       "      <th>quality</th>\n",
       "    </tr>\n",
       "  </thead>\n",
       "  <tbody>\n",
       "    <tr>\n",
       "      <th>count</th>\n",
       "      <td>1599.000000</td>\n",
       "      <td>1599.000000</td>\n",
       "      <td>1599.000000</td>\n",
       "      <td>1599.000000</td>\n",
       "      <td>1599.000000</td>\n",
       "      <td>1599.000000</td>\n",
       "      <td>1599.000000</td>\n",
       "      <td>1599.000000</td>\n",
       "      <td>1599.000000</td>\n",
       "      <td>1599.000000</td>\n",
       "      <td>1599.000000</td>\n",
       "      <td>1599.000000</td>\n",
       "    </tr>\n",
       "    <tr>\n",
       "      <th>mean</th>\n",
       "      <td>8.319637</td>\n",
       "      <td>0.527821</td>\n",
       "      <td>0.270976</td>\n",
       "      <td>2.538806</td>\n",
       "      <td>0.087467</td>\n",
       "      <td>15.874922</td>\n",
       "      <td>46.467792</td>\n",
       "      <td>0.996747</td>\n",
       "      <td>3.311113</td>\n",
       "      <td>0.658149</td>\n",
       "      <td>10.422983</td>\n",
       "      <td>5.636023</td>\n",
       "    </tr>\n",
       "    <tr>\n",
       "      <th>std</th>\n",
       "      <td>1.741096</td>\n",
       "      <td>0.179060</td>\n",
       "      <td>0.194801</td>\n",
       "      <td>1.409928</td>\n",
       "      <td>0.047065</td>\n",
       "      <td>10.460157</td>\n",
       "      <td>32.895324</td>\n",
       "      <td>0.001887</td>\n",
       "      <td>0.154386</td>\n",
       "      <td>0.169507</td>\n",
       "      <td>1.065668</td>\n",
       "      <td>0.807569</td>\n",
       "    </tr>\n",
       "    <tr>\n",
       "      <th>min</th>\n",
       "      <td>4.600000</td>\n",
       "      <td>0.120000</td>\n",
       "      <td>0.000000</td>\n",
       "      <td>0.900000</td>\n",
       "      <td>0.012000</td>\n",
       "      <td>1.000000</td>\n",
       "      <td>6.000000</td>\n",
       "      <td>0.990070</td>\n",
       "      <td>2.740000</td>\n",
       "      <td>0.330000</td>\n",
       "      <td>8.400000</td>\n",
       "      <td>3.000000</td>\n",
       "    </tr>\n",
       "    <tr>\n",
       "      <th>25%</th>\n",
       "      <td>7.100000</td>\n",
       "      <td>0.390000</td>\n",
       "      <td>0.090000</td>\n",
       "      <td>1.900000</td>\n",
       "      <td>0.070000</td>\n",
       "      <td>7.000000</td>\n",
       "      <td>22.000000</td>\n",
       "      <td>0.995600</td>\n",
       "      <td>3.210000</td>\n",
       "      <td>0.550000</td>\n",
       "      <td>9.500000</td>\n",
       "      <td>5.000000</td>\n",
       "    </tr>\n",
       "    <tr>\n",
       "      <th>50%</th>\n",
       "      <td>7.900000</td>\n",
       "      <td>0.520000</td>\n",
       "      <td>0.260000</td>\n",
       "      <td>2.200000</td>\n",
       "      <td>0.079000</td>\n",
       "      <td>14.000000</td>\n",
       "      <td>38.000000</td>\n",
       "      <td>0.996750</td>\n",
       "      <td>3.310000</td>\n",
       "      <td>0.620000</td>\n",
       "      <td>10.200000</td>\n",
       "      <td>6.000000</td>\n",
       "    </tr>\n",
       "    <tr>\n",
       "      <th>75%</th>\n",
       "      <td>9.200000</td>\n",
       "      <td>0.640000</td>\n",
       "      <td>0.420000</td>\n",
       "      <td>2.600000</td>\n",
       "      <td>0.090000</td>\n",
       "      <td>21.000000</td>\n",
       "      <td>62.000000</td>\n",
       "      <td>0.997835</td>\n",
       "      <td>3.400000</td>\n",
       "      <td>0.730000</td>\n",
       "      <td>11.100000</td>\n",
       "      <td>6.000000</td>\n",
       "    </tr>\n",
       "    <tr>\n",
       "      <th>max</th>\n",
       "      <td>15.900000</td>\n",
       "      <td>1.580000</td>\n",
       "      <td>1.000000</td>\n",
       "      <td>15.500000</td>\n",
       "      <td>0.611000</td>\n",
       "      <td>72.000000</td>\n",
       "      <td>289.000000</td>\n",
       "      <td>1.003690</td>\n",
       "      <td>4.010000</td>\n",
       "      <td>2.000000</td>\n",
       "      <td>14.900000</td>\n",
       "      <td>8.000000</td>\n",
       "    </tr>\n",
       "  </tbody>\n",
       "</table>\n",
       "</div>"
      ],
      "text/plain": [
       "       fixed acidity  volatile acidity  citric acid  residual sugar  \\\n",
       "count    1599.000000       1599.000000  1599.000000     1599.000000   \n",
       "mean        8.319637          0.527821     0.270976        2.538806   \n",
       "std         1.741096          0.179060     0.194801        1.409928   \n",
       "min         4.600000          0.120000     0.000000        0.900000   \n",
       "25%         7.100000          0.390000     0.090000        1.900000   \n",
       "50%         7.900000          0.520000     0.260000        2.200000   \n",
       "75%         9.200000          0.640000     0.420000        2.600000   \n",
       "max        15.900000          1.580000     1.000000       15.500000   \n",
       "\n",
       "         chlorides  free sulfur dioxide  total sulfur dioxide      density  \\\n",
       "count  1599.000000          1599.000000           1599.000000  1599.000000   \n",
       "mean      0.087467            15.874922             46.467792     0.996747   \n",
       "std       0.047065            10.460157             32.895324     0.001887   \n",
       "min       0.012000             1.000000              6.000000     0.990070   \n",
       "25%       0.070000             7.000000             22.000000     0.995600   \n",
       "50%       0.079000            14.000000             38.000000     0.996750   \n",
       "75%       0.090000            21.000000             62.000000     0.997835   \n",
       "max       0.611000            72.000000            289.000000     1.003690   \n",
       "\n",
       "                pH    sulphates      alcohol      quality  \n",
       "count  1599.000000  1599.000000  1599.000000  1599.000000  \n",
       "mean      3.311113     0.658149    10.422983     5.636023  \n",
       "std       0.154386     0.169507     1.065668     0.807569  \n",
       "min       2.740000     0.330000     8.400000     3.000000  \n",
       "25%       3.210000     0.550000     9.500000     5.000000  \n",
       "50%       3.310000     0.620000    10.200000     6.000000  \n",
       "75%       3.400000     0.730000    11.100000     6.000000  \n",
       "max       4.010000     2.000000    14.900000     8.000000  "
      ]
     },
     "execution_count": 3,
     "metadata": {},
     "output_type": "execute_result"
    }
   ],
   "source": [
    "wine = read_csv(\"../datasets/winequality_red.csv\")\n",
    "\n",
    "wine.describe()"
   ]
  },
  {
   "cell_type": "markdown",
   "id": "d25aced0-8371-46b3-acb0-3eebefd57244",
   "metadata": {},
   "source": [
    "Выполним рутинную предварительную обработку самых данных и запишем их в отдельную переменную."
   ]
  },
  {
   "cell_type": "code",
   "execution_count": 4,
   "id": "01d8696e-0603-4d08-8b33-80ba3999e69a",
   "metadata": {},
   "outputs": [],
   "source": [
    "x_train_wine, x_test_wine, y_train_wine, y_test_wine = train_test_split(\n",
    "    wine.iloc[:, :-1],\n",
    "    wine.iloc[:, -1],\n",
    "    test_size=0.3,\n",
    "    random_state=52,\n",
    ")\n",
    "\n",
    "scaler = MinMaxScaler()\n",
    "scaler.fit(x_train_wine)\n",
    "x_train_scaled = scaler.transform(x_train_wine)\n",
    "x_test_scaled = scaler.transform(x_test_wine)\n",
    "train_test_split_scaled = (x_train_scaled, x_test_scaled, y_train_wine, y_test_wine)"
   ]
  },
  {
   "cell_type": "markdown",
   "id": "7d3e2cd3-f16f-42e4-8400-c757b3230e14",
   "metadata": {},
   "source": [
    "С обработанными данными уже можено работать. Однако перед этим вычислим общее количество признаков в наборе данных."
   ]
  },
  {
   "cell_type": "code",
   "execution_count": 5,
   "id": "2a04e757-e5f1-452e-9121-e6563b20cd34",
   "metadata": {},
   "outputs": [
    {
     "data": {
      "text/plain": [
       "11"
      ]
     },
     "execution_count": 5,
     "metadata": {},
     "output_type": "execute_result"
    }
   ],
   "source": [
    "wine_n_features = len(wine.columns) - 1\n",
    "\n",
    "wine_n_features"
   ]
  },
  {
   "cell_type": "markdown",
   "id": "b0c8d52d-b5d7-413c-b2c0-f536a27d98e8",
   "metadata": {},
   "source": [
    "### Методы-оболочки\n",
    "\n",
    "Рассмотрим на примере как применять методы-оболочки, а именно: `SelectFromModel` и `RFE`.\n",
    "\n",
    "#### Селекция на основе модели\n",
    "\n",
    "Чтобы выполнить селекцию для модели Логистической регрессии воспользуемся классом `SelectFromModel` и масштабированными данными. Посмотрим на точность модели на отобранных данных, когда максимальное количество отобранных признаков не может превышать половины от общего их количества."
   ]
  },
  {
   "cell_type": "code",
   "execution_count": 6,
   "id": "e377e310-d5cd-4c3b-8f1b-0c8fd036d6ae",
   "metadata": {},
   "outputs": [
    {
     "data": {
      "text/plain": [
       "0.5604166666666667"
      ]
     },
     "execution_count": 6,
     "metadata": {},
     "output_type": "execute_result"
    }
   ],
   "source": [
    "def score_sfm_regression(train_test_split: TrainTestSplitTuple, max_features: int) -> float:\n",
    "    x_train, x_test, y_train, y_test = train_test_split\n",
    "    sfm_regression = SelectFromModel(LogisticRegression(), max_features=max_features)\n",
    "\n",
    "    sfm_regression.fit(x_train, y_train)\n",
    "    x_train_selected = sfm_regression.transform(x_train)\n",
    "    x_test_selected = sfm_regression.transform(x_test)\n",
    "\n",
    "    sfm_regression.estimator.fit(x_train_selected, y_train)\n",
    "    score = float(sfm_regression.estimator.score(x_test_selected, y_test))\n",
    "    return score\n",
    "\n",
    "\n",
    "sfm_score_1 = score_sfm_regression(train_test_split_scaled, wine_n_features // 2)\n",
    "sfm_score_1"
   ]
  },
  {
   "cell_type": "markdown",
   "id": "cd172c08-b5b2-410d-af6f-8dde04dc62e0",
   "metadata": {},
   "source": [
    "Взглянем на результат, который получится при вычитании четырёх общего количества признаков."
   ]
  },
  {
   "cell_type": "code",
   "execution_count": 7,
   "id": "0aab00fe-e37b-488c-95e4-4538f1e14e78",
   "metadata": {},
   "outputs": [
    {
     "data": {
      "text/plain": [
       "0.5604166666666667"
      ]
     },
     "execution_count": 7,
     "metadata": {},
     "output_type": "execute_result"
    }
   ],
   "source": [
    "sfm_score_2 = score_sfm_regression(train_test_split_scaled, wine_n_features - 4)\n",
    "sfm_score_2"
   ]
  },
  {
   "cell_type": "markdown",
   "id": "34c69770-9936-4628-bf3d-cdd78b2b7aee",
   "metadata": {},
   "source": [
    "А вот значение при `max_features=wine_n_features - 3`:"
   ]
  },
  {
   "cell_type": "code",
   "execution_count": 8,
   "id": "bdeb58b4-cb3f-42f1-9566-d02e7f351d4c",
   "metadata": {},
   "outputs": [
    {
     "data": {
      "text/plain": [
       "0.5604166666666667"
      ]
     },
     "execution_count": 8,
     "metadata": {},
     "output_type": "execute_result"
    }
   ],
   "source": [
    "sfm_score_3 = score_sfm_regression(train_test_split_scaled, wine_n_features - 2)\n",
    "sfm_score_3"
   ]
  },
  {
   "cell_type": "markdown",
   "id": "ba6c0471-0d8c-4d99-a278-86e40ff6bb05",
   "metadata": {},
   "source": [
    "И на данных, которые мы лишь масштабировали."
   ]
  },
  {
   "cell_type": "code",
   "execution_count": 9,
   "id": "4b9a7b0e-0041-4c0c-8db3-50f3de947bbe",
   "metadata": {},
   "outputs": [
    {
     "data": {
      "text/plain": [
       "0.5666666666666667"
      ]
     },
     "execution_count": 9,
     "metadata": {},
     "output_type": "execute_result"
    }
   ],
   "source": [
    "regressor = LogisticRegression()\n",
    "\n",
    "regressor.fit(x_train_scaled, y_train_wine)\n",
    "regressor_score = regressor.score(x_test_scaled, y_test_wine)\n",
    "\n",
    "regressor_score"
   ]
  },
  {
   "cell_type": "markdown",
   "id": "00d529ae-267f-466a-b108-4f52a06a6369",
   "metadata": {},
   "source": [
    "Как это ни странно, выборка после селекции негативно сказалась на качестве модели..."
   ]
  },
  {
   "cell_type": "markdown",
   "id": "68d55f30-6c76-4625-8230-7bfb17be0bca",
   "metadata": {},
   "source": [
    "#### Рекурсивное устранение компонент\n",
    "\n",
    "Всё тоже повторим для RFE (Recurcive Feature Elimination), но теперь аргументы при инициализации будут другими. За максимально количество признаков, которое может быть оставлено отвечает аргумент _n_features_to_select_. Также добавился так называемый шаг (ключевой аргумент _step_), устанавливающий количество признаков, выбрасываемых после одной итерации оценки их значительности.\n",
    "\n",
    "Начнём так же с половины от общего количества факторов."
   ]
  },
  {
   "cell_type": "code",
   "execution_count": 10,
   "id": "666a710f-6bc6-4e07-a6f7-eef2554f9308",
   "metadata": {},
   "outputs": [
    {
     "data": {
      "text/plain": [
       "0.55625"
      ]
     },
     "execution_count": 10,
     "metadata": {},
     "output_type": "execute_result"
    }
   ],
   "source": [
    "def score_rfe_regression(train_test_split: TrainTestSplitTuple, n_features_to_select: int, step: int) -> float:\n",
    "    x_train, x_test, y_train, y_test = train_test_split\n",
    "    rfe_regression = RFE(\n",
    "        LogisticRegression(),\n",
    "        n_features_to_select=n_features_to_select,\n",
    "        step=step,\n",
    "    )\n",
    "\n",
    "    rfe_regression.fit(x_train, y_train)\n",
    "    x_train_selected = rfe_regression.transform(x_train)\n",
    "    x_test_selected = rfe_regression.transform(x_test)\n",
    "\n",
    "    rfe_regression.estimator.fit(x_train_selected, y_train)\n",
    "    score = float(rfe_regression.estimator.score(x_test_selected, y_test))\n",
    "    return score\n",
    "\n",
    "\n",
    "rfe_score_1 = score_rfe_regression(\n",
    "    train_test_split_scaled,\n",
    "    n_features_to_select=wine_n_features // 2,\n",
    "    step=1,\n",
    ")\n",
    "rfe_score_1"
   ]
  },
  {
   "cell_type": "markdown",
   "id": "77e1f558-08c0-4e62-84b7-c0198ed0cf86",
   "metadata": {},
   "source": [
    "Вычтем 4 из общего количества."
   ]
  },
  {
   "cell_type": "code",
   "execution_count": 11,
   "id": "f85b1651-d132-4fa0-8a61-1467dbf9a6c3",
   "metadata": {},
   "outputs": [
    {
     "data": {
      "text/plain": [
       "0.5604166666666667"
      ]
     },
     "execution_count": 11,
     "metadata": {},
     "output_type": "execute_result"
    }
   ],
   "source": [
    "rfe_score_2 = score_rfe_regression(\n",
    "    train_test_split_scaled,\n",
    "    n_features_to_select=wine_n_features - 4,\n",
    "    step=2\n",
    ")\n",
    "rfe_score_2"
   ]
  },
  {
   "cell_type": "markdown",
   "id": "dfb01208-a429-4633-bbf5-1452628b355e",
   "metadata": {},
   "source": [
    "А вот оценка при `n_features_to_select=wine_n_features - 2`:"
   ]
  },
  {
   "cell_type": "code",
   "execution_count": 12,
   "id": "6087dada-57ee-4043-bfc3-48bf3c5c7bb6",
   "metadata": {},
   "outputs": [
    {
     "data": {
      "text/plain": [
       "0.5708333333333333"
      ]
     },
     "execution_count": 12,
     "metadata": {},
     "output_type": "execute_result"
    }
   ],
   "source": [
    "rfe_score_3 = score_rfe_regression(\n",
    "    train_test_split_scaled,\n",
    "    n_features_to_select=wine_n_features - 2,\n",
    "    step=3\n",
    ")\n",
    "rfe_score_3"
   ]
  },
  {
   "cell_type": "markdown",
   "id": "136245b8-1990-4e67-ad10-c318e50f3e22",
   "metadata": {},
   "source": [
    "Вспомним результат ванильной Логистической регрессии."
   ]
  },
  {
   "cell_type": "code",
   "execution_count": 13,
   "id": "dfb751c0-299e-44ac-8d4f-d3c61be06ce9",
   "metadata": {},
   "outputs": [
    {
     "data": {
      "text/plain": [
       "0.5666666666666667"
      ]
     },
     "execution_count": 13,
     "metadata": {},
     "output_type": "execute_result"
    }
   ],
   "source": [
    "regressor_score"
   ]
  },
  {
   "cell_type": "markdown",
   "id": "6525780c-6d53-45ec-8a4b-d494bba568e2",
   "metadata": {},
   "source": [
    "Теперь уже разница оценки говорит в пользу модели, обёрнутой в `RFE`."
   ]
  },
  {
   "cell_type": "code",
   "execution_count": 14,
   "id": "a5bcb5d1-6e5c-4438-bb26-a26e377dc577",
   "metadata": {},
   "outputs": [
    {
     "data": {
      "image/png": "[encoded data removed]",
      "text/plain": [
       "<Figure size 640x480 with 2 Axes>"
      ]
     },
     "metadata": {},
     "output_type": "display_data"
    }
   ],
   "source": [
    "sfm_rfe_figure, sfm_rfe_axes = \"SFM vs RFE\", (\"SFM\", \"RFE\")\n",
    "sfm_scores = (sfm_score_1, sfm_score_2, sfm_score_3)\n",
    "rfe_scores = (rfe_score_1, rfe_score_2, rfe_score_3)\n",
    "y_min_max = (0.5, 0.6)\n",
    "\n",
    "visualize_results(sfm_rfe_figure, sfm_rfe_axes, sfm_scores, rfe_scores, regressor_score, y_min_max)"
   ]
  },
  {
   "cell_type": "markdown",
   "id": "4ca14578-50f6-4a61-a7d3-eb2c35416815",
   "metadata": {},
   "source": [
    "Как видно по вышеуказанному графику, для `SFM` оценка не отличается вовсе, а вот `RFE` довольно хорошо показал себя в последнем случае."
   ]
  },
  {
   "cell_type": "markdown",
   "id": "34d46145-4458-46fe-b746-e2a39c1ddae8",
   "metadata": {},
   "source": [
    "### Встроенные методы\n",
    "\n",
    "Теперь рассмотрим, насколько эффективны встроенные методы, такие как: `Lasso` и `Ridge`. Случайный лес обозревать не будем, т.к. в предыдущих тетрадях итак хорошо описан принцип его работы. Лассо и Гребень (дословный перевод слова ridge) используют L1 и L2 метрики для регуляризации. Кратко уясним, что всё это значит.\n",
    "\n",
    "Регуляризация L1 и L2 - это методы, используемые в машинном обучении для решения проблемы переобучения и выбора функций, особенно при работе с большим набором функций.\n",
    "\n",
    "##### Регуляризация L1 (регрессия Лассо)\n",
    "- Регуляризация L1, также известная как регрессия Лассо, добавляет абсолютное значение величины коэффициента в качестве штрафа.\n",
    "- Она способствует разреженности и выбору признаков, сводя некоторые коэффициенты к нулю, тем самым отбирая наиболее релевантные признаки и снижая сложность модели\n",
    "- Регуляризация L1 особенно полезна для выбора признаков при работе с данными большой размерности, поскольку позволяет выбрать подмножество наиболее важных атрибутов, снижая риск переобучения и упрощая понимание модели\n",
    "\n",
    "##### Регуляризация L2 (регрессия гребня):\n",
    "- В отличие от регуляризации L1, регуляризация L2 не приводит к тому, что коэффициенты должны быть точно равны нулю, а вместо этого делает их малыми.\n",
    "- Это может предотвратить переобучение, распределяя влияние одной функции на несколько функций, и выгодно, когда есть корреляции между входными функциями \n",
    "- Регуляризация L2 приводит к более редкому решению по сравнению с регуляризацией L1\n",
    "\n",
    "##### Сравнение\n",
    "- Регуляризация L1 имеет встроенный выбор признаков, в то время как регуляризация L2 не выполняет выбор признаков, поскольку веса уменьшаются только до значений, близких к нулю, вместо нуля\n",
    "- Регуляризация L1 устойчива к выбросам, в то время как регуляризация L2 — нет\n",
    "- Регуляризация L1 требует больших вычислительных затрат, поскольку она не может быть решена с помощью матричной математики, в то время как регуляризация L2 требует меньших вычислительных затрат\n",
    "\n",
    "Если совсем обобщить, получается, что мы как бы дополняем нашу функцию потерь. На языке математике это выглядит следующим образом.\n",
    "\n",
    "Для Лассо:\n",
    "$$\n",
    "\\textrm{L}(\\overline{Y}, Y, W) = \\frac{1}{n} \\sum_{i = 1}^{n}{(\\overline{y}_{i} - y_{i})^2} + \\alpha \\sum_{j = 1}^{m}{\\left | w_{i} \\right |},\n",
    "$$\n",
    "и для Гребня:\n",
    "$$\n",
    "\\textrm{L}(\\overline{Y}, Y, W) = \\frac{1}{n} \\sum_{i = 1}^{n}{(\\overline{y}_{i} - y_{i})^2} + \\alpha \\sum_{j = 1}^{m}{w_{i}^{2}},\n",
    "$$\n",
    "где:\n",
    "- $\\overline{Y}$ — множество предсказаний модели,\n",
    "- $Y$ — множество действительных значений целевой переменной,\n",
    "- $W$ — множество всех весов,\n",
    "- $n$ — количество измерений,\n",
    "- $m$ — количество весов.\n",
    "\n",
    "#### Лассо\n",
    "\n",
    "Взглянем на результаты оценки регрессии Лассо. В качестве изменяемого параметра возьмём аргумент _alpha_ инициализатора `Lasso`. Сначала установим `alpha=0.01`."
   ]
  },
  {
   "cell_type": "code",
   "execution_count": 15,
   "id": "686de842-0ae6-4a3d-b70e-98df0cc7c5e1",
   "metadata": {},
   "outputs": [
    {
     "data": {
      "text/plain": [
       "0.32968125841811013"
      ]
     },
     "execution_count": 15,
     "metadata": {},
     "output_type": "execute_result"
    }
   ],
   "source": [
    "def score_lasso_or_ridge(\n",
    "    lasso_or_ridge: Lasso | Ridge,\n",
    "    train_test_split: TrainTestSplitTuple,\n",
    "    alpha: float,\n",
    ") -> float:\n",
    "    x_train, x_test, y_train, y_test = train_test_split\n",
    "    instance = lasso_or_ridge(alpha=alpha)\n",
    "\n",
    "    instance.fit(x_train, y_train)\n",
    "    score = instance.score(x_test, y_test)\n",
    "    return score\n",
    "\n",
    "\n",
    "lasso_score_1 = score_lasso_or_ridge(Lasso, train_test_split_scaled, 0.01)\n",
    "lasso_score_1"
   ]
  },
  {
   "cell_type": "markdown",
   "id": "20e33157-d20f-4e80-afe1-a47412b1f0b2",
   "metadata": {},
   "source": [
    "Теперь посмотрим, как поведёт себя Лассо, если приравнять альфу к 0,01."
   ]
  },
  {
   "cell_type": "code",
   "execution_count": 16,
   "id": "402f3b9d-5fed-4fd5-9146-3ed988b0235a",
   "metadata": {},
   "outputs": [
    {
     "data": {
      "text/plain": [
       "0.37617835460840254"
      ]
     },
     "execution_count": 16,
     "metadata": {},
     "output_type": "execute_result"
    }
   ],
   "source": [
    "lasso_score_2 = score_lasso_or_ridge(Lasso, train_test_split_scaled, 0.001)\n",
    "lasso_score_2"
   ]
  },
  {
   "cell_type": "markdown",
   "id": "bb111070-704f-4c61-a11c-a09be0b0c685",
   "metadata": {},
   "source": [
    "И вот `alpha=0.001`:"
   ]
  },
  {
   "cell_type": "code",
   "execution_count": 17,
   "id": "cc5ad4f5-b2e6-4552-bb0c-34d51c9fe4a0",
   "metadata": {},
   "outputs": [
    {
     "data": {
      "text/plain": [
       "0.3732161017018373"
      ]
     },
     "execution_count": 17,
     "metadata": {},
     "output_type": "execute_result"
    }
   ],
   "source": [
    "lasso_score_3 = score_lasso_or_ridge(Lasso, train_test_split_scaled, 0.0001)\n",
    "lasso_score_3"
   ]
  },
  {
   "cell_type": "markdown",
   "id": "720100b5-d9cd-4b1b-b664-ff6d9fbe226c",
   "metadata": {},
   "source": [
    "Как видно, в данном случае меньшее значение _aplha_ обеспечивает лучшую оценку. Хотя для каждого конкретного случая нужно отдельно подбирать эту величину."
   ]
  },
  {
   "cell_type": "markdown",
   "id": "f0b635e6-e3ff-46a0-ac22-7b828c6c5347",
   "metadata": {},
   "source": [
    "#### Гребень\n",
    "\n",
    "Сейчас оценим эффективность регресии Гребня. Здесь аргументом остаётся уже знакомый нам параметр _alpha_. Начнём всё так же с 0,1."
   ]
  },
  {
   "cell_type": "code",
   "execution_count": 18,
   "id": "30b88d0f-1e22-4ad2-bb05-9627ca6ebae3",
   "metadata": {},
   "outputs": [
    {
     "data": {
      "text/plain": [
       "0.3733575141054172"
      ]
     },
     "execution_count": 18,
     "metadata": {},
     "output_type": "execute_result"
    }
   ],
   "source": [
    "ridge_score_1 = score_lasso_or_ridge(Ridge, train_test_split_scaled, 0.1)\n",
    "ridge_score_1"
   ]
  },
  {
   "cell_type": "markdown",
   "id": "2ac117d3-e0c3-45a9-bb3e-e3dd8f3efaf2",
   "metadata": {},
   "source": [
    "Оценим результат при альфе равной 0,01."
   ]
  },
  {
   "cell_type": "code",
   "execution_count": 19,
   "id": "d7a4ec86-1e02-4501-b5f1-05d2aa356fcc",
   "metadata": {},
   "outputs": [
    {
     "data": {
      "text/plain": [
       "0.3731480869516366"
      ]
     },
     "execution_count": 19,
     "metadata": {},
     "output_type": "execute_result"
    }
   ],
   "source": [
    "ridge_score_2 = score_lasso_or_ridge(Ridge, train_test_split_scaled, 0.01)\n",
    "ridge_score_2"
   ]
  },
  {
   "cell_type": "markdown",
   "id": "ac3715f0-dffc-4ae9-937e-62064529ee52",
   "metadata": {},
   "source": [
    "И так же взглянем, что получится при `alpha=0.001`."
   ]
  },
  {
   "cell_type": "code",
   "execution_count": 20,
   "id": "ba0b8376-b1f0-4f52-972d-0c8eb9f81709",
   "metadata": {},
   "outputs": [
    {
     "data": {
      "text/plain": [
       "0.3731239574943809"
      ]
     },
     "execution_count": 20,
     "metadata": {},
     "output_type": "execute_result"
    }
   ],
   "source": [
    "ridge_score_3 = score_lasso_or_ridge(Ridge, train_test_split_scaled, 0.001)\n",
    "ridge_score_3"
   ]
  },
  {
   "cell_type": "markdown",
   "id": "e14af8a0-8379-479d-851f-a900921f7c42",
   "metadata": {},
   "source": [
    "В этот раз можно наблюдать наиболее высокую оценку при значении альфа равном 0,1."
   ]
  },
  {
   "cell_type": "code",
   "execution_count": 21,
   "id": "ec040158-8d94-4e51-98d5-cdd6cb9977bb",
   "metadata": {},
   "outputs": [
    {
     "data": {
      "image/png": "[encoded data removed]",
      "text/plain": [
       "<Figure size 640x480 with 2 Axes>"
      ]
     },
     "metadata": {},
     "output_type": "display_data"
    }
   ],
   "source": [
    "lasso_ridge_figure, lasso_ridge_axes = \"Lasso vs Ridge\", (\"Lasso\", \"Ridge\")\n",
    "lasso_scores = (lasso_score_1, lasso_score_2, lasso_score_3)\n",
    "ridge_scores = (ridge_score_1, ridge_score_2, ridge_score_3)\n",
    "y_min_max = (0.3, 0.4)\n",
    "\n",
    "visualize_results(\n",
    "    lasso_ridge_figure,\n",
    "    lasso_ridge_axes,\n",
    "    lasso_scores,\n",
    "    ridge_scores,\n",
    "    default_res=None,\n",
    "    min_max=y_min_max,\n",
    ")"
   ]
  },
  {
   "cell_type": "markdown",
   "id": "2f11f244-5459-49e3-8d86-94f2f0f758da",
   "metadata": {},
   "source": [
    "Теперь по рисунку, расположенному выше, можно судить, что `Lasso` лучше проявил себя на момент второй оценки, а вот `Ridge` практически никак не меняет своё значение.\n",
    "\n",
    "***"
   ]
  },
  {
   "cell_type": "markdown",
   "id": "fe6196aa-de9e-41cd-86dd-f21dbb8825d6",
   "metadata": {},
   "source": [
    "## Заключение\n",
    "\n",
    "В настоящей тетради мы познакомились с несколькими алгоритмами отбора моделей, а именно: селекцией на основе модели, рекурсивным устранением компонент, Лассо и Гребнем. Первые два относятся к методам-оболочкам, а вторые два — к встроенным методам.\n",
    "\n",
    "В заключение можно ещё раз отметить, что алгоритмы отбора моделей суть очень полезный инструмент. Однако эффективность применения данного инструмента сильно зависит от конкретного случая и обстоятельств. Для каждых набора данных и модели требуется отдельно подбирать значения параметров и оценивать качество алгоритмов."
   ]
  }
 ],
 "metadata": {
  "kernelspec": {
   "display_name": ".venv",
   "language": "python",
   "name": "python3"
  },
  "language_info": {
   "codemirror_mode": {
    "name": "ipython",
    "version": 3
   },
   "file_extension": ".py",
   "mimetype": "text/x-python",
   "name": "python",
   "nbconvert_exporter": "python",
   "pygments_lexer": "ipython3",
   "version": "3.12.8"
  }
 },
 "nbformat": 4,
 "nbformat_minor": 5
}
